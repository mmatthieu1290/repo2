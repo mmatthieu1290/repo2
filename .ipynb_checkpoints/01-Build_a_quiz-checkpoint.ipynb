{
 "cells": [
  {
   "cell_type": "markdown",
   "metadata": {
    "colab_type": "text",
    "id": "FY347VxWs_bJ"
   },
   "source": [
    "# Build a quizz\n",
    "\n",
    "---\n",
    "\n",
    "\n"
   ]
  },
  {
   "cell_type": "markdown",
   "metadata": {
    "colab_type": "text",
    "id": "qJizpyqVwYnF"
   },
   "source": [
    "Let's tackle our first project together. Find a partner and start coding a quiz together! Your program should: \n",
    "\n",
    "1. Ask a question to a user via the console \n",
    "2. Verify whether the answer is correct or not \n",
    "3. If the answer is correct, you should print out: `Good job! This is the right answer`\n",
    "\n",
    "* Else, it should print out : `Too bad! that is not the correct answer`\n",
    "\n",
    "4. Ask three questions following this model.\n",
    "\n"
   ]
  },
  {
   "cell_type": "code",
   "execution_count": 1,
   "metadata": {
    "colab": {
     "base_uri": "https://localhost:8080/",
     "height": 136
    },
    "colab_type": "code",
    "id": "EQxWuVl7yFoU",
    "outputId": "cf3ee10c-9d8f-4d96-82b0-f730321d4a2f"
   },
   "outputs": [
    {
     "name": "stdout",
     "output_type": "stream",
     "text": [
      "Here you have our quiz !\n",
      "-------\n",
      "\n",
      "Your answer : 3\n",
      "Too bad! That is not the correct answer\n",
      "Your answer : 2\n",
      "Too bad! That is not the correct answer\n",
      "Your answer : Elon Musk\n",
      "Your answer after .lower() function : elon musk\n",
      "Good job! This is the right answer\n"
     ]
    }
   ],
   "source": []
  },
  {
   "cell_type": "markdown",
   "metadata": {
    "colab_type": "text",
    "id": "sLMbYgaOyxiX"
   },
   "source": [
    "There's a problem with our quizz : if the user has not given the right answer, the program goes to next question. We would rather like to ask again the same question if the answer was wrong.\n",
    "\n",
    "5. Using a `while` loop, make sure that the same question will be asked again when the answer was wrong\n",
    "\n",
    "6. Rewrite your code such that this behaviour is applied to all questions."
   ]
  },
  {
   "cell_type": "code",
   "execution_count": 2,
   "metadata": {
    "colab": {
     "base_uri": "https://localhost:8080/",
     "height": 170
    },
    "colab_type": "code",
    "id": "csyxqJzBxPfN",
    "outputId": "0e671bec-2b70-424e-f110-d4792423dd7a"
   },
   "outputs": [
    {
     "name": "stdout",
     "output_type": "stream",
     "text": [
      "Here you have our quiz !\n",
      "-------\n",
      "\n",
      "Question 1\n",
      "Your answer : 3\n",
      "Too bad! That is not the correct answer\n",
      "Your answer : 2\n",
      "Good job! This is the right answer\n",
      "\n",
      "Question 2\n",
      "Your answer : 1976\n",
      "Good job! This is the right answer\n",
      "\n",
      "Question 3\n",
      "Your answer : elon musk\n",
      "Good job! This is the right answer\n",
      "\n",
      "Well done! You are the quiz winner!\n"
     ]
    }
   ],
   "source": []
  },
  {
   "cell_type": "markdown",
   "metadata": {
    "colab_type": "text",
    "id": "nh4voWn8x3dM"
   },
   "source": [
    "Now, we would like to tackle a last problem : we want to allow only 3 wrong answers (among all questions).\n",
    "\n",
    "7. Improve your code : if the user makes 3 wrong answers, the program should stop and print (\"Too bad, you lost the game !\")\n"
   ]
  },
  {
   "cell_type": "code",
   "execution_count": 3,
   "metadata": {
    "colab": {
     "base_uri": "https://localhost:8080/",
     "height": 170
    },
    "colab_type": "code",
    "id": "adKPQe1Hsi2g",
    "outputId": "45d36fc8-90ae-4f00-b73a-73b1e6e57e6e",
    "tags": []
   },
   "outputs": [
    {
     "name": "stdout",
     "output_type": "stream",
     "text": [
      "Welcome to our quizz!\n",
      "You have 3 lives.\n",
      "\n",
      "Question 1:\n",
      "Your answer : 6\n",
      "Sorry, you have 2 chances left\n",
      "Your answer : 2\n",
      "Question 2:\n",
      "Your answer : 1980\n",
      "Sorry, you have 1 chances left\n",
      "Your answer : 1976\n",
      "Question 3:\n",
      "Your answer : steve jobs\n",
      "Sorry, you have 0 chances left\n",
      "Oh no, you lost the quiz...\n"
     ]
    }
   ],
   "source": []
  },
  {
   "cell_type": "code",
   "execution_count": 32,
   "metadata": {},
   "outputs": [],
   "source": [
    "import numpy as np\n",
    "import random\n",
    "\n",
    "class quizs():\n",
    "    \n",
    " def __init__(self,questions,correct_answers,nb_intents_max,nb_questions = None):\n",
    "    \n",
    "   self.result = 1\n",
    "   self.success = 0\n",
    "   self.nb_intents_max = nb_intents_max\n",
    "   if nb_questions != None and nb_questions<len(questions):\n",
    "        index = list(range(len(questions)))\n",
    "        self.questions = []\n",
    "        self.correct_answers = [] \n",
    "        for j in range(nb_questions):\n",
    "            self.questions.append(questions[index[j]])\n",
    "            self.correct_answers.append(correct_answers[index[j]])\n",
    "   else:\n",
    "        self.questions = questions\n",
    "        self.correct_answers = correct_answers\n",
    "        \n",
    " def success_quiz(self):\n",
    "    \n",
    "    print(self.success)\n",
    "    if self.result == 0:\n",
    "        print(\"You have lose\")\n",
    "    else:\n",
    "        print(\"You can still play\")\n",
    "    \n",
    "        \n",
    " def questionnaire(self):\n",
    "\n",
    "   if self.result == 0:\n",
    "    print(\"You have already lose\")    \n",
    "   else: \n",
    "    for question,correct_answer in zip(self.questions,self.correct_answers):\n",
    "        self.result = self.question(question,correct_answer,self.nb_intents_max)\n",
    "        if self.result == 0:\n",
    "            break\n",
    "        else:\n",
    "            self.success += 1\n",
    " \n",
    " def question(self,question,correct_answer,nb_intents_max):\n",
    "    \n",
    "    nb_intents = 0\n",
    "    \n",
    "\n",
    "    \n",
    "    while nb_intents < nb_intents_max:\n",
    "        nb_intents += 1\n",
    "        answer = input(question)\n",
    "        print(f'Your answer : {answer}')\n",
    "        if answer == correct_answer:\n",
    "            print('Good job! This is the right answer')\n",
    "            return 1\n",
    "        else:\n",
    "            print(f'Sorry, you have {nb_intents_max-nb_intents} chances left')\n",
    "    print('You lost!') \n",
    "    return 0"
   ]
  },
  {
   "cell_type": "code",
   "execution_count": 33,
   "metadata": {},
   "outputs": [],
   "source": [
    "questions = ['Qui est le président actuel de la France?','Quelle est la capitale de Occitanie?','Quel sport pratique Zinedine Zidane?']\n",
    "correct_answers = ['Emmanuel Macron','Toulouse','football']\n",
    "nb_intents_max = 2"
   ]
  },
  {
   "cell_type": "code",
   "execution_count": 34,
   "metadata": {},
   "outputs": [],
   "source": [
    "h = quizs(questions,correct_answers,nb_intents_max)"
   ]
  },
  {
   "cell_type": "code",
   "execution_count": null,
   "metadata": {},
   "outputs": [],
   "source": [
    "h.questionnaire()"
   ]
  },
  {
   "cell_type": "code",
   "execution_count": null,
   "metadata": {},
   "outputs": [],
   "source": []
  },
  {
   "cell_type": "code",
   "execution_count": null,
   "metadata": {},
   "outputs": [],
   "source": []
  },
  {
   "cell_type": "code",
   "execution_count": null,
   "metadata": {},
   "outputs": [],
   "source": []
  }
 ],
 "metadata": {
  "colab": {
   "name": "Construire un quiz - SOLUTIONS S1-1A.ipynb",
   "provenance": []
  },
  "kernelspec": {
   "display_name": "Python 3",
   "language": "python",
   "name": "python3"
  },
  "language_info": {
   "codemirror_mode": {
    "name": "ipython",
    "version": 3
   },
   "file_extension": ".py",
   "mimetype": "text/x-python",
   "name": "python",
   "nbconvert_exporter": "python",
   "pygments_lexer": "ipython3",
   "version": "3.8.3"
  }
 },
 "nbformat": 4,
 "nbformat_minor": 1
}
